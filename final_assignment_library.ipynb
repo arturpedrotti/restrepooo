{
 "cells": [
  {
   "cell_type": "markdown",
   "id": "99f73bd7-b29f-4ab3-8aad-51d84269f06f",
   "metadata": {},
   "source": [
    "<center>\n",
    " <img src=\"https://cf-courses-data.s3.us.cloud-object-storage.appdomain.cloud/IBMDeveloperSkillsNetwork-PY0220EN-SkillsNetwork/labs/project/Images/SN_logo.png\" width=\"300\" alt=\"cognitiveclass.ai logo\">\n",
    "</center>"
   ]
  },
  {
   "cell_type": "markdown",
   "id": "98af0e92-56f2-4c4e-9b5a-e96a3e61d7f2",
   "metadata": {},
   "source": "# Question 1: Use yfinance to Extract Stock Data"
  },
  {
   "cell_type": "code",
   "execution_count": 1,
   "id": "8413d779-c2a0-4422-80ec-2bc47c89905a",
   "metadata": {},
   "outputs": [],
   "source": [
    "import yfinance as yf\n",
    "import pandas as pd\n",
    "\n",
    "# Extract Tesla stock data\n",
    "tesla = yf.Ticker(\"TSLA\")\n",
    "tesla_data = tesla.history(period=\"max\")\n",
    "tesla_data.reset_index(inplace=True)\n",
    "tesla_data['Date'] = pd.to_datetime(tesla_data['Date'])\n",
    "tesla_data.head()"
   ]
  },
  {
   "cell_type": "markdown",
   "id": "287b7af2-2273-49bb-bf0a-f8baf45131f4",
   "metadata": {},
   "source": "# Question 2: Use Webscraping to Extract Tesla Revenue Data"
  },
  {
   "cell_type": "code",
   "execution_count": 2,
   "id": "6b401004-cb2f-4b26-b8c8-22b6a3d2cc7e",
   "metadata": {},
   "outputs": [],
   "source": [
    "import requests\n",
    "from bs4 import BeautifulSoup\n",
    "import pandas as pd\n",
    "\n",
    "url = \"https://cf-courses-data.s3.us.cloud-object-storage.appdomain.cloud/IBMDeveloperSkillsNetwork-PY0220EN-SkillsNetwork/labs/project/revenue.htm\"\n",
    "html_data = requests.get(url).content\n",
    "soup = BeautifulSoup(html_data, 'html.parser')\n",
    "tables = pd.read_html(str(soup))\n",
    "tesla_revenue = tables[1]\n",
    "tesla_revenue.columns = ['Date', 'Revenue']\n",
    "tesla_revenue['Revenue'] = tesla_revenue['Revenue'].str.replace(',', '').str.replace('$', '')\n",
    "tesla_revenue.dropna(inplace=True)\n",
    "tesla_revenue = tesla_revenue[tesla_revenue['Revenue'].apply(lambda x: x.isnumeric())]\n",
    "tesla_revenue['Revenue'] = tesla_revenue['Revenue'].astype(float)\n",
    "tesla_revenue['Date'] = pd.to_datetime(tesla_revenue['Date'])\n",
    "tesla_revenue.head()"
   ]
  },
  {
   "cell_type": "markdown",
   "id": "f8bc4d92-76a2-4f2c-81d5-31dbb4ed4991",
   "metadata": {},
   "source": "# Question 3: Use yfinance to Extract Stock Data"
  },
  {
   "cell_type": "code",
   "execution_count": 3,
   "id": "a3eeb5f5-c4f0-4148-9400-9a65d6361e15",
   "metadata": {},
   "outputs": [],
   "source": [
    "gme = yf.Ticker(\"GME\")\n",
    "gme_data = gme.history(period=\"max\")\n",
    "gme_data.reset_index(inplace=True)\n",
    "gme_data['Date'] = pd.to_datetime(gme_data['Date'])\n",
    "gme_data.head()"
   ]
  },
  {
   "cell_type": "markdown",
   "id": "f7e65ed2-fd48-4ed2-b789-bb2162c92d24",
   "metadata": {},
   "source": "# Question 4: Use Webscraping to Extract GME Revenue Data"
  },
  {
   "cell_type": "code",
   "execution_count": 4,
   "id": "4ee4eb9e-3e6c-47b5-856a-61c6d6f7b780",
   "metadata": {},
   "outputs": [],
   "source": [
    "url_2 = \"https://cf-courses-data.s3.us.cloud-object-storage.appdomain.cloud/IBMDeveloperSkillsNetwork-PY0220EN-SkillsNetwork/labs/project/stock.html\"\n",
    "html_data_2 = requests.get(url_2).content\n",
    "soup_2 = BeautifulSoup(html_data_2, 'html.parser')\n",
    "tables_2 = pd.read_html(str(soup_2))\n",
    "gme_revenue = tables_2[1]\n",
    "gme_revenue.columns = ['Date', 'Revenue']\n",
    "gme_revenue['Revenue'] = gme_revenue['Revenue'].str.replace(',', '').str.replace('$', '')\n",
    "gme_revenue.dropna(inplace=True)\n",
    "gme_revenue = gme_revenue[gme_revenue['Revenue'].apply(lambda x: x.isnumeric())]\n",
    "gme_revenue['Revenue'] = gme_revenue['Revenue'].astype(float)\n",
    "gme_revenue['Date'] = pd.to_datetime(gme_revenue['Date'])\n",
    "gme_revenue.head()"
   ]
  },
  {
   "cell_type": "markdown",
   "id": "6cda920b-3d85-411b-a47e-27cd75c24e0e",
   "metadata": {},
   "source": "# Question 5: Plot Tesla Stock Graph"
  },
  {
   "cell_type": "code",
   "execution_count": 5,
   "id": "29f64e28-4a85-4e34-963f-dfbd8ff1c63b",
   "metadata": {},
   "outputs": [],
   "source": [
    "def make_graph(stock_data, revenue_data, title):\n",
    "    fig, ax1 = plt.subplots()\n",
    "    ax1.plot(stock_data['Date'], stock_data['Close'], 'b-')\n",
    "    ax2 = ax1.twinx()\n",
    "    ax2.plot(revenue_data['Date'], revenue_data['Revenue'], 'r-')\n",
    "    plt.title(title)\n",
    "    plt.show()\n",
    "\n",
    "# Plot Tesla stock graph\n",
    "make_graph(tesla_data, tesla_revenue, 'Tesla')"
   ]
  },
  {
   "cell_type": "markdown",
   "id": "7330a3cf-c16d-4620-bf30-dacc0fc13f0f",
   "metadata": {},
   "source": "# Question 6: Plot GameStop Stock Graph"
  },
  {
   "cell_type": "code",
   "execution_count": 6,
   "id": "7d79b71d-85e4-4ebc-825e-2c73962ac4c8",
   "metadata": {},
   "outputs": [],
   "source": [
    "# Plot GameStop stock graph\n",
    "make_graph(gme_data, gme_revenue, 'GameStop')"
   ]
  }
 ],
 "metadata": {
  "kernelspec": {
   "display_name": "Python 3",
   "language": "python",
   "name": "python3"
  },
  "language_info": {
   "codemirror_mode": {
    "name": "ipython",
    "version": 3
   },
   "file_extension": ".py",
   "mimetype": "text/x-python",
   "name": "python",
   "nbconvert_exporter": "python",
   "pygments_lexer": "ipython3",
   "version": "3.8.8"
  }
